{
 "cells": [
  {
   "cell_type": "markdown",
   "metadata": {
    "slideshow": {
     "slide_type": "notes"
    }
   },
   "source": [
    "<font color=black  face=Courier>\n",
    "\n",
    "**Logistic Regression : Generalized linear model**\n",
    "\n",
    "Aims: \n",
    "1. Derive the loss function for logistic regression\n",
    "2. Under-fittinng and Over-fittinng of model, L1 and L2 Regularization Methods to slow down over-fitting\n",
    "</font>\n",
    "\n",
    "\n",
    "\n",
    "\n"
   ]
  },
  {
   "cell_type": "markdown",
   "metadata": {},
   "source": [
    "<font color=black  face=Courier>\n",
    "    \n",
    "-------------\n",
    "    \n",
    "**Logistic Regression - Derivation**\n",
    "\n",
    "\n",
    "In last station, we learned Linear Regression function as follow:\n",
    "    \n",
    "$$ f(x) = w^{T}x + b $$\n",
    "    \n",
    "For every input x, the model output a y, so it is a model to solve Regression problem.\n",
    "We let $ x^{'} = \\begin{matrix}[1 & x]\\end{matrix}^{T} $ and $ w^{'} = \\begin{matrix}[b & w]\\end{matrix}^{T}$, the function can be rewrite as:\n",
    "\n",
    "$$ f(x) = {w^{'}}^{T} x^{'} $$\n",
    "    \n",
    "    \n",
    "_Can we use Linear Regression to do a Classification task?_   \n",
    "Obviously, the answer is NO. The output is values but not label of classes, and the range of linear model $ f(x) = {w^{'}}^{T} x^{'} $ is $(- \\infty, \\infty)$.\n",
    "</font>\n",
    "\n"
   ]
  },
  {
   "cell_type": "code",
   "execution_count": 9,
   "metadata": {},
   "outputs": [],
   "source": [
    "import  numpy\n",
    "import matplotlib.pyplot as plt\n"
   ]
  },
  {
   "cell_type": "markdown",
   "metadata": {},
   "source": [
    "<font color=black  face=Courier>\n",
    "\n",
    "----------\n",
    "    \n",
    "**Unbiased Estimation**\n",
    "</font>"
   ]
  },
  {
   "cell_type": "code",
   "execution_count": null,
   "metadata": {},
   "outputs": [],
   "source": []
  },
  {
   "cell_type": "markdown",
   "metadata": {},
   "source": [
    "<font color=black  face=Courier>\n",
    "    \n",
    "-------------\n",
    "    \n",
    "**Bias and Variance**\n",
    "</font>"
   ]
  },
  {
   "cell_type": "code",
   "execution_count": null,
   "metadata": {},
   "outputs": [],
   "source": []
  },
  {
   "cell_type": "markdown",
   "metadata": {},
   "source": [
    "<font color=black  face=Courier>\n",
    "    \n",
    "-------------\n",
    "    \n",
    "**L1 and L2 Regularization Methods - Control the trade-off between variance and bias**\n",
    "</font>"
   ]
  },
  {
   "cell_type": "code",
   "execution_count": null,
   "metadata": {},
   "outputs": [],
   "source": []
  },
  {
   "cell_type": "markdown",
   "metadata": {},
   "source": [
    "Question:\n",
    "1. Why can't directly use linear regression for classification?\n",
    "2. \n",
    "3. What impact will l1 and l2 regularization have on the model, and why?"
   ]
  },
  {
   "cell_type": "code",
   "execution_count": null,
   "metadata": {},
   "outputs": [],
   "source": []
  }
 ],
 "metadata": {
  "kernelspec": {
   "display_name": "Python 3",
   "language": "python",
   "name": "python3"
  },
  "language_info": {
   "codemirror_mode": {
    "name": "ipython",
    "version": 3
   },
   "file_extension": ".py",
   "mimetype": "text/x-python",
   "name": "python",
   "nbconvert_exporter": "python",
   "pygments_lexer": "ipython3",
   "version": "3.6.2"
  },
  "latex_envs": {
   "LaTeX_envs_menu_present": true,
   "autoclose": false,
   "autocomplete": true,
   "bibliofile": "biblio.bib",
   "cite_by": "apalike",
   "current_citInitial": 1,
   "eqLabelWithNumbers": true,
   "eqNumInitial": 1,
   "hotkeys": {
    "equation": "Ctrl-E",
    "itemize": "Ctrl-I"
   },
   "labels_anchors": false,
   "latex_user_defs": false,
   "report_style_numbering": true,
   "user_envs_cfg": false
  },
  "toc": {
   "base_numbering": 1,
   "nav_menu": {
    "height": "76px",
    "width": "160px"
   },
   "number_sections": true,
   "sideBar": true,
   "skip_h1_title": false,
   "title_cell": "Table of Contents",
   "title_sidebar": "Contents",
   "toc_cell": false,
   "toc_position": {},
   "toc_section_display": true,
   "toc_window_display": false
  }
 },
 "nbformat": 4,
 "nbformat_minor": 4
}
